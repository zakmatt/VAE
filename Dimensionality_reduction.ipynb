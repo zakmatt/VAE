{
 "cells": [
  {
   "cell_type": "code",
   "execution_count": 1,
   "metadata": {},
   "outputs": [],
   "source": [
    "import numpy as np\n",
    "import matplotlib.pyplot as plt\n",
    "from sklearn.datasets import make_blobs"
   ]
  },
  {
   "cell_type": "code",
   "execution_count": 2,
   "metadata": {},
   "outputs": [],
   "source": [
    "%matplotlib inline"
   ]
  },
  {
   "cell_type": "code",
   "execution_count": 3,
   "metadata": {},
   "outputs": [],
   "source": [
    "data = make_blobs(n_samples=100, n_features=3, centers=2, random_state=101)"
   ]
  },
  {
   "cell_type": "code",
   "execution_count": 4,
   "metadata": {},
   "outputs": [
    {
     "name": "stdout",
     "output_type": "stream",
     "text": [
      "(array([[  0.99429187,   0.87511711,  -9.99909683],\n",
      "       [  0.65761885,   0.91624771, -10.18458517],\n",
      "       [ -6.48804352,   3.29034852,   6.73159871],\n",
      "       [  0.5815206 ,   2.06249948,  -9.07157495],\n",
      "       [ -7.42442678,   5.30835517,   6.86341624],\n",
      "       [  2.26790487,   0.40816482, -10.17230518],\n",
      "       [  1.62073713,  -0.05416228,  -9.92461083],\n",
      "       [  2.41199108,   1.03683306,  -9.20017913],\n",
      "       [ -7.62441747,   5.87096075,   5.41069708],\n",
      "       [ -7.34160752,   3.671108  ,   7.36634568],\n",
      "       [ -7.56358517,   3.5736335 ,   5.34284552],\n",
      "       [  2.22972735,   1.6514787 ,  -7.43386319],\n",
      "       [ -0.75249891,   2.31574949,  -9.26873428],\n",
      "       [  0.54946324,   0.5581557 ,  -7.88852506],\n",
      "       [ -0.4308995 ,   0.48011452,  -8.47545896],\n",
      "       [ -1.19436032,   2.54705473,  -8.90232874],\n",
      "       [ -0.06318407,   2.4416449 , -11.40312057],\n",
      "       [ -6.70999871,   3.8246846 ,   7.34365184],\n",
      "       [  1.32054601,   2.60559237, -10.47729501],\n",
      "       [  0.15391601,   2.19349145,  -9.8137736 ],\n",
      "       [  0.32833903,   2.43933589,  -9.58711337],\n",
      "       [ -7.01543966,   4.3914134 ,   9.46294692],\n",
      "       [  0.16543782,   1.89916047,  -9.03802666],\n",
      "       [  0.7185004 ,   1.58025637,  -9.24601361],\n",
      "       [ -7.65700277,   1.13777271,   7.33896645],\n",
      "       [ -7.12044288,   4.64758461,   5.7025879 ],\n",
      "       [  1.93475242,   0.29764177, -10.81589403],\n",
      "       [ -6.4220804 ,   2.9760733 ,   5.9578275 ],\n",
      "       [ -7.39003004,   2.67596248,   5.15308172],\n",
      "       [ -7.03832316,   4.56563667,   6.9080243 ],\n",
      "       [ -4.07557669,   3.15827975,   7.17466421],\n",
      "       [ -0.61543385,   1.89810338,  -9.54728879],\n",
      "       [  0.9339379 ,  -0.60481651,  -8.69039341],\n",
      "       [ -4.81755245,   4.40108636,   6.83159809],\n",
      "       [  0.57115017,   2.27751662, -10.99144692],\n",
      "       [ -1.0016875 ,   1.45481168,  -9.84157087],\n",
      "       [  1.7353108 ,   2.05515725, -10.33561537],\n",
      "       [ -8.68467997,   3.42602942,   7.74064767],\n",
      "       [  0.9790905 ,   1.09403369, -10.27859245],\n",
      "       [ -5.79759684,   3.99975626,   5.28641819],\n",
      "       [  2.44569994,   1.61087572,  -7.12752821],\n",
      "       [  1.81046805,   2.37480989, -11.57172776],\n",
      "       [ -6.24790729,   4.71286377,   7.00772091],\n",
      "       [ -8.20249087,   4.507669  ,   5.01040047],\n",
      "       [  1.00918185,   2.44847681,  -9.46167595],\n",
      "       [ -6.78887759,   3.65986315,   6.69035824],\n",
      "       [  0.51876688,   3.39210906,  -6.82454819],\n",
      "       [ -8.40882774,   4.56913524,   5.60134675],\n",
      "       [ -0.44335605,   1.52382915, -10.23516698],\n",
      "       [ -5.24785153,   4.49966814,   8.03764923],\n",
      "       [ -6.13431395,   4.96544332,   6.2300389 ],\n",
      "       [ -1.37811338,   0.25423232,  -9.56535619],\n",
      "       [  0.29639341,   2.06317757,  -7.27566903],\n",
      "       [ -6.17610612,   3.075033  ,   5.27964757],\n",
      "       [ -0.53891248,   2.13413934, -10.65359751],\n",
      "       [ -5.43954882,   4.60333595,   7.00880287],\n",
      "       [  0.85678605,   0.8243512 ,  -9.24182016],\n",
      "       [ -0.65480344,   3.64490698, -10.40190804],\n",
      "       [ -6.05573415,   2.7773348 ,   7.52484115],\n",
      "       [ -0.80584461,   2.02382964,  -9.04448516],\n",
      "       [ -0.2822863 ,   0.6580264 ,  -9.77693397],\n",
      "       [ -5.66674102,   3.16763048,   5.12826615],\n",
      "       [  1.35278283,   0.48747748,  -7.56765133],\n",
      "       [ -6.47593889,   4.94635225,   5.58024423],\n",
      "       [ -6.86800262,   3.73468111,   7.56696814],\n",
      "       [ -6.65886532,   4.40410604,   5.26881157],\n",
      "       [ -7.14994986,   4.91456692,   7.87968128],\n",
      "       [  1.05699629,   0.55026047,  -9.12488396],\n",
      "       [  0.51509708,   0.68050659, -10.81343557],\n",
      "       [ -5.53765102,   2.62442136,   6.67758229],\n",
      "       [ -5.69865986,   5.29135203,   7.60759509],\n",
      "       [  1.16100188,   2.38907142,  -9.81875417],\n",
      "       [  0.47499933,   0.9339037 ,  -8.87174606],\n",
      "       [ -9.30656147,   5.22810174,   6.85594634],\n",
      "       [  1.1112886 ,   0.704398  ,  -8.84366818],\n",
      "       [ -6.16198043,   4.51338238,   3.94147281],\n",
      "       [ -7.80518114,   2.90711167,   7.43205869],\n",
      "       [  0.0760756 ,   0.83523148,  -9.19351984],\n",
      "       [  0.52875302,   1.74119648,  -8.75603028],\n",
      "       [ -5.95090888,   1.65297671,   6.51129114],\n",
      "       [ -5.96070958,   3.99201262,   6.47214495],\n",
      "       [ -5.04581642,   4.99576956,   5.19961789],\n",
      "       [ -7.37241005,   3.45206025,   6.768636  ],\n",
      "       [ -6.78944842,   3.99833476,   7.51229177],\n",
      "       [ -7.55471973,   3.55026388,   5.66470924],\n",
      "       [ -0.66529095,   1.61015124, -10.56716006],\n",
      "       [ -4.54002269,   2.65918125,   5.37145495],\n",
      "       [ -1.3503111 ,   1.74732484,  -9.962986  ],\n",
      "       [  1.01148144,   1.71601719,  -7.73679255],\n",
      "       [ -8.4775757 ,   3.32543613,   5.01187807],\n",
      "       [ -1.29337527,   2.09088685,  -9.40440999],\n",
      "       [ -6.35533268,   3.46502969,   5.25698778],\n",
      "       [ -0.08134593,   1.75689092,  -9.23424015],\n",
      "       [  1.13567847,   1.48631141,  -8.79172846],\n",
      "       [ -6.40192863,   2.93960956,   7.64023642],\n",
      "       [ -6.85482364,   5.79607878,   7.6819934 ],\n",
      "       [ -7.63261577,   3.58015883,   5.73234913],\n",
      "       [ -6.90248768,   2.77693736,   8.39388742],\n",
      "       [ -6.3033601 ,   4.1181198 ,   7.6667101 ],\n",
      "       [ -7.19637228,   3.31445067,   8.4214142 ]]), array([0, 0, 1, 0, 1, 0, 0, 0, 1, 1, 1, 0, 0, 0, 0, 0, 0, 1, 0, 0, 0, 1, 0,\n",
      "       0, 1, 1, 0, 1, 1, 1, 1, 0, 0, 1, 0, 0, 0, 1, 0, 1, 0, 0, 1, 1, 0, 1,\n",
      "       0, 1, 0, 1, 1, 0, 0, 1, 0, 1, 0, 0, 1, 0, 0, 1, 0, 1, 1, 1, 1, 0, 0,\n",
      "       1, 1, 0, 0, 1, 0, 1, 1, 0, 0, 1, 1, 1, 1, 1, 1, 0, 1, 0, 0, 1, 0, 1,\n",
      "       0, 0, 1, 1, 1, 1, 1, 1]))\n"
     ]
    }
   ],
   "source": [
    "print(data)"
   ]
  },
  {
   "cell_type": "code",
   "execution_count": 5,
   "metadata": {},
   "outputs": [],
   "source": [
    "from sklearn.preprocessing import MinMaxScaler"
   ]
  },
  {
   "cell_type": "code",
   "execution_count": 6,
   "metadata": {},
   "outputs": [],
   "source": [
    "scaler = MinMaxScaler()\n",
    "scaled_data = scaler.fit_transform(data[0])"
   ]
  },
  {
   "cell_type": "code",
   "execution_count": 7,
   "metadata": {},
   "outputs": [
    {
     "data": {
      "text/plain": [
       "array([[ 0.87649968,  0.22853374,  0.07476374],\n",
       "       [ 0.84785217,  0.2348852 ,  0.06594552],\n",
       "       [ 0.23982771,  0.60149768,  0.8701502 ],\n",
       "       [ 0.84137697,  0.41189125,  0.11885864],\n",
       "       [ 0.16015085,  0.91312154,  0.87641688],\n",
       "       [ 0.98487142,  0.15642622,  0.06652932],\n",
       "       [ 0.92980391,  0.08503292,  0.07830484],\n",
       "       [ 0.99713171,  0.25350618,  0.11274473],\n",
       "       [ 0.14313364,  1.        ,  0.80735381],\n",
       "       [ 0.16719794,  0.66029518,  0.90032642],\n",
       "       [ 0.14830987,  0.64524301,  0.80412811],\n",
       "       [ 0.98162289,  0.34842076,  0.19671636],\n",
       "       [ 0.72786524,  0.45099853,  0.10948558],\n",
       "       [ 0.83864921,  0.17958805,  0.17510148],\n",
       "       [ 0.75523013,  0.1675368 ,  0.14719832],\n",
       "       [ 0.69026725,  0.48671705,  0.1269047 ],\n",
       "       [ 0.78651904,  0.4704395 ,  0.00801568],\n",
       "       [ 0.22094154,  0.68401073,  0.89924755],\n",
       "       [ 0.90426064,  0.49575653,  0.05202993],\n",
       "       [ 0.80499209,  0.43211924,  0.08357411],\n",
       "       [ 0.81983375,  0.47008294,  0.09434966],\n",
       "       [ 0.19495157,  0.7715259 ,  1.        ],\n",
       "       [ 0.80597248,  0.38666818,  0.12045354],\n",
       "       [ 0.85303258,  0.33742249,  0.11056573],\n",
       "       [ 0.14036096,  0.26909345,  0.8990248 ],\n",
       "       [ 0.18601685,  0.81108428,  0.82123046],\n",
       "       [ 0.95652347,  0.13935907,  0.03593275],\n",
       "       [ 0.24544051,  0.5529668 ,  0.8333647 ],\n",
       "       [ 0.16307767,  0.5066232 ,  0.79510664],\n",
       "       [ 0.19300441,  0.79842974,  0.87853757],\n",
       "       [ 0.44510453,  0.58110341,  0.89121378],\n",
       "       [ 0.73952811,  0.38650494,  0.09624294],\n",
       "       [ 0.87136416,  0.        ,  0.13698022],\n",
       "       [ 0.38196981,  0.77301962,  0.87490423],\n",
       "       [ 0.84049455,  0.44509454,  0.02758687],\n",
       "       [ 0.70666178,  0.31805112,  0.08225261],\n",
       "       [ 0.93955298,  0.41075745,  0.05876546],\n",
       "       [ 0.0529159 ,  0.62244975,  0.91812095],\n",
       "       [ 0.87520619,  0.2623392 ,  0.06147636],\n",
       "       [ 0.29857782,  0.71104558,  0.80144553],\n",
       "       [ 1.        ,  0.34215078,  0.21127969],\n",
       "       [ 0.94594811,  0.46011873,  0.        ],\n",
       "       [ 0.2602609 ,  0.82116479,  0.88327721],\n",
       "       [ 0.09394537,  0.78947828,  0.78832349],\n",
       "       [ 0.87776667,  0.47149449,  0.10031302],\n",
       "       [ 0.21422974,  0.65855873,  0.86818961],\n",
       "       [ 0.83603725,  0.61721171,  0.22568353],\n",
       "       [ 0.07638817,  0.79897   ,  0.8164174 ],\n",
       "       [ 0.75417021,  0.32870891,  0.06354083],\n",
       "       [ 0.34535566,  0.78824278,  0.93224056],\n",
       "       [ 0.26992656,  0.86016853,  0.84630578],\n",
       "       [ 0.6746317 ,  0.13265571,  0.09538401],\n",
       "       [ 0.81711549,  0.41199596,  0.20423699],\n",
       "       [ 0.26637047,  0.56824831,  0.80112365],\n",
       "       [ 0.74603931,  0.42295399,  0.04364842],\n",
       "       [ 0.32904413,  0.80425133,  0.88332864],\n",
       "       [ 0.86479931,  0.22069439,  0.11076509],\n",
       "       [ 0.73617815,  0.65624918,  0.05561387],\n",
       "       [ 0.27661292,  0.52227728,  0.90786139],\n",
       "       [ 0.72332605,  0.40591979,  0.1201465 ],\n",
       "       [ 0.76787563,  0.19501024,  0.08532548],\n",
       "       [ 0.30971235,  0.58254737,  0.79392689],\n",
       "       [ 0.90700368,  0.1686738 ,  0.190356  ],\n",
       "       [ 0.24085769,  0.85722046,  0.81541418],\n",
       "       [ 0.20749699,  0.67011224,  0.90986413],\n",
       "       [ 0.22529248,  0.77348592,  0.8006085 ],\n",
       "       [ 0.1835061 ,  0.85231212,  0.92473068],\n",
       "       [ 0.8818352 ,  0.17836886,  0.1163243 ],\n",
       "       [ 0.83572499,  0.19848167,  0.03604963],\n",
       "       [ 0.32069662,  0.49866413,  0.86758223],\n",
       "       [ 0.30699637,  0.91049588,  0.91179555],\n",
       "       [ 0.89068503,  0.46232102,  0.08333733],\n",
       "       [ 0.83231307,  0.23761166,  0.12835861],\n",
       "       [ 0.        ,  0.90072867,  0.87606176],\n",
       "       [ 0.88645493,  0.20217102,  0.12969345],\n",
       "       [ 0.26757242,  0.79036055,  0.73750608],\n",
       "       [ 0.12775246,  0.54231763,  0.90345046],\n",
       "       [ 0.79836865,  0.22237454,  0.11306131],\n",
       "       [ 0.83688697,  0.36227512,  0.13385981],\n",
       "       [ 0.2855325 ,  0.34865208,  0.85967666],\n",
       "       [ 0.28469856,  0.70984979,  0.85781563],\n",
       "       [ 0.36254682,  0.86485156,  0.79731899],\n",
       "       [ 0.16457696,  0.62646947,  0.87191098],\n",
       "       [ 0.21418117,  0.71082607,  0.90726478],\n",
       "       [ 0.14906423,  0.64163424,  0.81942969],\n",
       "       [ 0.73528577,  0.3420389 ,  0.0477577 ],\n",
       "       [ 0.40558482,  0.50403181,  0.80548822],\n",
       "       [ 0.6769974 ,  0.36322147,  0.07648047],\n",
       "       [ 0.87796234,  0.35838689,  0.18231493],\n",
       "       [ 0.0705384 ,  0.60691597,  0.78839374],\n",
       "       [ 0.68184207,  0.41627487,  0.10303548],\n",
       "       [ 0.25112008,  0.62847223,  0.80004639],\n",
       "       [ 0.78497365,  0.36469868,  0.11112545],\n",
       "       [ 0.88853026,  0.32291536,  0.1321627 ],\n",
       "       [ 0.24715523,  0.54733601,  0.91334734],\n",
       "       [ 0.20861839,  0.98843661,  0.91533249],\n",
       "       [ 0.14243605,  0.64625066,  0.82264533],\n",
       "       [ 0.20456265,  0.5222159 ,  0.94917632],\n",
       "       [ 0.25554242,  0.72932346,  0.91460591],\n",
       "       [ 0.17955601,  0.60521958,  0.95048496]])"
      ]
     },
     "execution_count": 7,
     "metadata": {},
     "output_type": "execute_result"
    }
   ],
   "source": [
    "scaled_data"
   ]
  },
  {
   "cell_type": "code",
   "execution_count": 8,
   "metadata": {},
   "outputs": [],
   "source": [
    "data_x = scaled_data[:, 0]\n",
    "data_y = scaled_data[:, 1]\n",
    "data_z = scaled_data[:, 2]"
   ]
  },
  {
   "cell_type": "code",
   "execution_count": 9,
   "metadata": {},
   "outputs": [],
   "source": [
    "from mpl_toolkits.mplot3d import Axes3D"
   ]
  },
  {
   "cell_type": "code",
   "execution_count": 11,
   "metadata": {},
   "outputs": [
    {
     "data": {
      "text/plain": [
       "<mpl_toolkits.mplot3d.art3d.Path3DCollection at 0x114139710>"
      ]
     },
     "execution_count": 11,
     "metadata": {},
     "output_type": "execute_result"
    },
    {
     "data": {
      "image/png": "[encoded data removed]",
      "text/plain": [
       "<matplotlib.figure.Figure at 0x11355bb70>"
      ]
     },
     "metadata": {},
     "output_type": "display_data"
    }
   ],
   "source": [
    "fig = plt.figure()\n",
    "ax = fig.add_subplot(111, projection='3d')\n",
    "ax.scatter(data_x, data_y, data_z, c = data[1])"
   ]
  },
  {
   "cell_type": "code",
   "execution_count": 12,
   "metadata": {},
   "outputs": [],
   "source": [
    "import tensorflow as tf\n",
    "from tensorflow.contrib.layers import fully_connected"
   ]
  },
  {
   "cell_type": "code",
   "execution_count": 13,
   "metadata": {},
   "outputs": [],
   "source": [
    "num_inputs = 3\n",
    "num_hidden = 2\n",
    "num_outputs = num_inputs"
   ]
  },
  {
   "cell_type": "code",
   "execution_count": 14,
   "metadata": {},
   "outputs": [],
   "source": [
    "learning_rate = 0.01"
   ]
  },
  {
   "cell_type": "code",
   "execution_count": 15,
   "metadata": {},
   "outputs": [],
   "source": [
    "X = tf.placeholder(tf.float32, shape=[None, num_inputs])\n",
    "hidden = fully_connected(X, num_hidden, activation_fn=None)\n",
    "outputs = fully_connected(hidden, num_outputs, activation_fn=None)"
   ]
  },
  {
   "cell_type": "code",
   "execution_count": 16,
   "metadata": {},
   "outputs": [],
   "source": [
    "loss = tf.reduce_mean(tf.square(outputs-X))"
   ]
  },
  {
   "cell_type": "code",
   "execution_count": 17,
   "metadata": {},
   "outputs": [],
   "source": [
    "optimizer = tf.train.AdamOptimizer(learning_rate)\n",
    "train = optimizer.minimize(loss)"
   ]
  },
  {
   "cell_type": "code",
   "execution_count": 18,
   "metadata": {},
   "outputs": [],
   "source": [
    "init = tf.global_variables_initializer()"
   ]
  },
  {
   "cell_type": "code",
   "execution_count": 19,
   "metadata": {},
   "outputs": [],
   "source": [
    "num_steps = 1000\n",
    "\n",
    "with tf.Session() as sess:\n",
    "    sess.run(init)\n",
    "    \n",
    "    for iteration in range(num_steps):\n",
    "        sess.run(\n",
    "            train,\n",
    "            feed_dict = {X:scaled_data}\n",
    "        )\n",
    "        \n",
    "    output_2d = hidden.eval(feed_dict={X: scaled_data})"
   ]
  },
  {
   "cell_type": "code",
   "execution_count": 20,
   "metadata": {},
   "outputs": [
    {
     "data": {
      "text/plain": [
       "array([[ 0.61933821, -0.34002787],\n",
       "       [ 0.60252792, -0.34387884],\n",
       "       [ 0.07021342,  0.19023591],\n",
       "       [ 0.54303581, -0.29533657],\n",
       "       [-0.0630006 ,  0.22562236],\n",
       "       [ 0.70112979, -0.35490519],\n",
       "       [ 0.68924493, -0.35295668],\n",
       "       [ 0.67542052, -0.31843963],\n",
       "       [-0.08937852,  0.19290519],\n",
       "       [ 0.00970224,  0.21596676],\n",
       "       [ 0.01408675,  0.15745801],\n",
       "       [ 0.63062745, -0.2587432 ],\n",
       "       [ 0.46965128, -0.29396361],\n",
       "       [ 0.60089433, -0.28340209],\n",
       "       [ 0.5608204 , -0.29882193],\n",
       "       [ 0.4366352 , -0.2790696 ],\n",
       "       [ 0.50817102, -0.35464954],\n",
       "       [ 0.03312929,  0.21598262],\n",
       "       [ 0.56187236, -0.32932931],\n",
       "       [ 0.52092326, -0.31351602],\n",
       "       [ 0.51728922, -0.30392173],\n",
       "       [-0.0172881 ,  0.28534448],\n",
       "       [ 0.53021669, -0.2957201 ],\n",
       "       [ 0.57150114, -0.30764937],\n",
       "       [ 0.10537536,  0.17917895],\n",
       "       [-0.01360793,  0.18220264],\n",
       "       [ 0.69351989, -0.37401742],\n",
       "       [ 0.09114027,  0.16346532],\n",
       "       [ 0.06249292,  0.13858473],\n",
       "       [-0.01249291,  0.21514839],\n",
       "       [ 0.18824947,  0.19495082],\n",
       "       [ 0.49585211, -0.30830449],\n",
       "       [ 0.67412442, -0.32408908],\n",
       "       [ 0.10059424,  0.20506853],\n",
       "       [ 0.54329473, -0.34688032],\n",
       "       [ 0.49839258, -0.32216674],\n",
       "       [ 0.60484141, -0.33431664],\n",
       "       [-0.04538926,  0.22640455],\n",
       "       [ 0.61054105, -0.34477299],\n",
       "       [ 0.07969516,  0.157655  ],\n",
       "       [ 0.64104271, -0.25114232],\n",
       "       [ 0.60099077, -0.3650746 ],\n",
       "       [ 0.01810996,  0.21816444],\n",
       "       [-0.05525817,  0.16313827],\n",
       "       [ 0.54857433, -0.30190575],\n",
       "       [ 0.04001941,  0.19517416],\n",
       "       [ 0.4701947 , -0.21185943],\n",
       "       [-0.07086079,  0.18137759],\n",
       "       [ 0.52398437, -0.33376297],\n",
       "       [ 0.06948645,  0.24192566],\n",
       "       [ 0.01659213,  0.19939649],\n",
       "       [ 0.53142488, -0.33079922],\n",
       "       [ 0.51998311, -0.24345827],\n",
       "       [ 0.102088  ,  0.14497232],\n",
       "       [ 0.49502897, -0.33658242],\n",
       "       [ 0.06128617,  0.21459794],\n",
       "       [ 0.61102384, -0.31885093],\n",
       "       [ 0.42229021, -0.3071844 ],\n",
       "       [ 0.10894521,  0.20430976],\n",
       "       [ 0.47866803, -0.29168236],\n",
       "       [ 0.56698769, -0.33368272],\n",
       "       [ 0.12304664,  0.1407401 ],\n",
       "       [ 0.64044881, -0.27728188],\n",
       "       [ 0.00462386,  0.18145633],\n",
       "       [ 0.02837054,  0.22142947],\n",
       "       [ 0.02123137,  0.1651637 ],\n",
       "       [-0.03814514,  0.24817288],\n",
       "       [ 0.63187528, -0.31999728],\n",
       "       [ 0.60935926, -0.36486292],\n",
       "       [ 0.14470026,  0.17666674],\n",
       "       [ 0.01580273,  0.24229097],\n",
       "       [ 0.56026292, -0.3133176 ],\n",
       "       [ 0.58615375, -0.30576974],\n",
       "       [-0.14887775,  0.22891641],\n",
       "       [ 0.62624663, -0.30988246],\n",
       "       [ 0.04707511,  0.1277048 ],\n",
       "       [ 0.02065985,  0.20789427],\n",
       "       [ 0.57320392, -0.3153789 ],\n",
       "       [ 0.55288005, -0.29088271],\n",
       "       [ 0.16832221,  0.15884751],\n",
       "       [ 0.06602652,  0.19172567],\n",
       "       [ 0.07241976,  0.16778076],\n",
       "       [ 0.0209486 ,  0.19583488],\n",
       "       [ 0.02088962,  0.22350585],\n",
       "       [ 0.01382889,  0.16626561],\n",
       "       [ 0.51142687, -0.341416  ],\n",
       "       [ 0.19747233,  0.13748688],\n",
       "       [ 0.46971035, -0.32051203],\n",
       "       [ 0.57153356, -0.26341134],\n",
       "       [-0.01676187,  0.14669406],\n",
       "       [ 0.45448029, -0.29975155],\n",
       "       [ 0.07667984,  0.15043545],\n",
       "       [ 0.52573407, -0.30276319],\n",
       "       [ 0.59302157, -0.29710793],\n",
       "       [ 0.08481011,  0.21081316],\n",
       "       [-0.06153546,  0.25461048],\n",
       "       [ 0.00846711,  0.16882002],\n",
       "       [ 0.06414849,  0.23116291],\n",
       "       [ 0.03794268,  0.22843772],\n",
       "       [ 0.02659304,  0.24048269]], dtype=float32)"
      ]
     },
     "execution_count": 20,
     "metadata": {},
     "output_type": "execute_result"
    }
   ],
   "source": [
    "output_2d"
   ]
  },
  {
   "cell_type": "code",
   "execution_count": 22,
   "metadata": {},
   "outputs": [
    {
     "data": {
      "text/plain": [
       "<matplotlib.collections.PathCollection at 0x122f58c18>"
      ]
     },
     "execution_count": 22,
     "metadata": {},
     "output_type": "execute_result"
    },
    {
     "data": {
      "image/png": "[encoded data removed]",
      "text/plain": [
       "<matplotlib.figure.Figure at 0x122e60b38>"
      ]
     },
     "metadata": {},
     "output_type": "display_data"
    }
   ],
   "source": [
    "plt.scatter(output_2d[:, 0], output_2d[:, 1], c=data[1])"
   ]
  },
  {
   "cell_type": "code",
   "execution_count": null,
   "metadata": {},
   "outputs": [],
   "source": []
  }
 ],
 "metadata": {
  "kernelspec": {
   "display_name": "Python 3",
   "language": "python",
   "name": "python3"
  },
  "language_info": {
   "codemirror_mode": {
    "name": "ipython",
    "version": 3
   },
   "file_extension": ".py",
   "mimetype": "text/x-python",
   "name": "python",
   "nbconvert_exporter": "python",
   "pygments_lexer": "ipython3",
   "version": "3.6.3"
  }
 },
 "nbformat": 4,
 "nbformat_minor": 2
}
